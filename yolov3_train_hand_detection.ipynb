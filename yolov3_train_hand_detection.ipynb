{
  "nbformat": 4,
  "nbformat_minor": 0,
  "metadata": {
    "colab": {
      "name": "6 - yolov3 train hand detection - small.ipynb",
      "provenance": [],
      "private_outputs": true,
      "collapsed_sections": [],
      "toc_visible": true,
      "authorship_tag": "ABX9TyOyhm+pQPwhwpZy3uXb4aKV",
      "include_colab_link": true
    },
    "kernelspec": {
      "name": "python3",
      "display_name": "Python 3"
    },
    "accelerator": "GPU"
  },
  "cells": [
    {
      "cell_type": "markdown",
      "metadata": {
        "id": "view-in-github",
        "colab_type": "text"
      },
      "source": [
        "<a href=\"https://colab.research.google.com/github/vindruid/yolov3-in-colab/blob/master/yolov3_train_hand_detection.ipynb\" target=\"_parent\"><img src=\"https://colab.research.google.com/assets/colab-badge.svg\" alt=\"Open In Colab\"/></a>"
      ]
    },
    {
      "cell_type": "markdown",
      "metadata": {
        "id": "1ig3IbsbJxoe",
        "colab_type": "text"
      },
      "source": [
        "Source :https://github.com/ultralytics/yolov3/wiki/Example:-Train-Single-Class"
      ]
    },
    {
      "cell_type": "markdown",
      "metadata": {
        "id": "Wys0hrkRKajc",
        "colab_type": "text"
      },
      "source": [
        "CHANGE RUNTIME USING GPU"
      ]
    },
    {
      "cell_type": "code",
      "metadata": {
        "id": "lFDZKykaKX1F",
        "colab_type": "code",
        "colab": {}
      },
      "source": [
        "!pip install wget"
      ],
      "execution_count": 0,
      "outputs": []
    },
    {
      "cell_type": "code",
      "metadata": {
        "id": "bCFCNlvNKnJy",
        "colab_type": "code",
        "colab": {}
      },
      "source": [
        "import torch\n",
        "import torchvision\n",
        "import torchvision.transforms as transforms\n",
        "from PIL import Image, ImageFile, ImageDraw, ImageFont\n",
        "import requests\n",
        "from io import BytesIO\n",
        "import numpy as np\n",
        "import os\n",
        "\n",
        "import wget\n",
        "import tarfile\n",
        "import io\n",
        "import hashlib\n",
        "import scipy.io\n",
        "import matplotlib.pyplot as plt\n",
        "\n",
        "from torch.utils.data import Dataset, DataLoader\n",
        "from torchvision.models.detection.faster_rcnn import FastRCNNPredictor\n",
        "\n",
        "from tqdm import tqdm\n",
        "from shutil import copyfile\n"
      ],
      "execution_count": 0,
      "outputs": []
    },
    {
      "cell_type": "markdown",
      "metadata": {
        "id": "ajkhIXfCKhmc",
        "colab_type": "text"
      },
      "source": [
        "# Prepare Dataset Yolo Format"
      ]
    },
    {
      "cell_type": "code",
      "metadata": {
        "id": "xLIlrqTNKwmj",
        "colab_type": "code",
        "colab": {}
      },
      "source": [
        "def download_extract_data(data_filenames):\n",
        "    # Load train, test and validation data\n",
        "    for data_filename in data_filenames:\n",
        "\n",
        "        print('Downloading %s.tar.gz...' % data_filename)\n",
        "        data_url = 'http://www.robots.ox.ac.uk/~vgg/data/hands/downloads/%s.tar.gz' % data_filename\n",
        "        data_filename_ext = wget.download(data_url)\n",
        "\n",
        "        print('Extracting %s...' % data_filename_ext)\n",
        "        data_tar = tarfile.open('%s' % data_filename_ext)\n",
        "        data_tar.extractall(path='dataset/')\n",
        "        data_tar.close()\n",
        "\n",
        "# download_extract_data(['test_dataset', 'validation_dataset', 'training_dataset'])\n",
        "download_extract_data(['test_dataset', 'training_dataset'])\n"
      ],
      "execution_count": 0,
      "outputs": []
    },
    {
      "cell_type": "code",
      "metadata": {
        "id": "zOXe11BsKzvI",
        "colab_type": "code",
        "colab": {}
      },
      "source": [
        "DATA_PATH = './dataset'\n",
        "\n",
        "# Test dataset\n",
        "TEST_IMG_DIR = os.path.join(DATA_PATH, 'test_dataset', 'test_data', 'images')\n",
        "TEST_ANN_DIR = os.path.join(DATA_PATH, 'test_dataset', 'test_data', 'annotations')\n",
        "\n",
        "# Training dataset\n",
        "TRAIN_IMG_DIR = os.path.join(DATA_PATH, 'training_dataset', 'training_data', 'images')\n",
        "TRAIN_ANN_DIR = os.path.join(DATA_PATH, 'training_dataset', 'training_data', 'annotations')\n"
      ],
      "execution_count": 0,
      "outputs": []
    },
    {
      "cell_type": "code",
      "metadata": {
        "id": "F1_RK5JEKs9-",
        "colab_type": "code",
        "colab": {}
      },
      "source": [
        "class HandDatasetOxford(Dataset):\n",
        "  def __init__(self, image_dir, ann_dir):\n",
        "    self.transforms = transforms\n",
        "    self.image_dir = image_dir\n",
        "    self.image_list = sorted([filename for filename in os.listdir(self.image_dir) if ( (filename[-4:] == '.jpg') & (filename.split('.')[0].split('_')[0] == 'VOC2010') )])\n",
        "    self.ann_dir = ann_dir \n",
        "    self.ann_list = sorted([filename for filename in os.listdir(self.ann_dir) if ( (filename[-4:] == '.mat') & (filename.split('.')[0].split('_')[0] == 'VOC2010') )])\n",
        "\n",
        "  def __len__(self):\n",
        "    return len(self.image_list)\n",
        "\n",
        "  def __getitem__(self, idx):\n",
        "    filename = self.image_list[idx]\n",
        "    img_path = os.path.join(self.image_dir, filename)\n",
        "    img = Image.open(img_path)\n",
        "    boxes_path = os.path.join(self.ann_dir, self.ann_list[idx])\n",
        "    boxes = self.boxes_from_mat(boxes_path)\n",
        "    label = self.yolo_label_from_boxes(img, boxes) #exercise\n",
        "    label_filename = filename.replace('.jpg', '.txt')\n",
        "\n",
        "    sample = {}\n",
        "    sample['image'] = img\n",
        "    sample['label'] = label\n",
        "\n",
        "    sample['img_filename'] = filename\n",
        "    sample['label_filename'] = label_filename\n",
        "\n",
        "    sample['image_path'] = img_path\n",
        "\n",
        "    return sample\n",
        "\n",
        "  #exercise\n",
        "  def yolo_label_from_boxes(self, img, boxes): \n",
        "    W, H = img.size\n",
        "\n",
        "    label = \"\"\n",
        "    for box in boxes: \n",
        "      box_w, box_h = (box[2] - box[0]) / W, (box[3] - box[1]) / H \n",
        "      x_center, y_center = ((box[2] + box[0]) / 2) / W, ((box[3] + box[1]) / 2) / H\n",
        "\n",
        "      # ensure value between 0 and 1 \n",
        "      box_w = max(min(box_w, 1),0)\n",
        "      box_h = max(min(box_h, 1),0)\n",
        "      x_center = max(min(x_center, 1),0)\n",
        "      y_center = max(min(y_center, 1),0)\n",
        "      \n",
        "\n",
        "      row = f\"0 {x_center} {y_center} {box_w} {box_h}\"\n",
        "      label += row \n",
        "      label += \"\\n\"\n",
        "    label = label.strip()\n",
        "      \n",
        "    return label\n",
        "\n",
        "\n",
        "  def boxes_from_mat(self, mat_filepath):\n",
        "    mat = scipy.io.loadmat(mat_filepath)\n",
        "    coords = []\n",
        "    i = 0\n",
        "    for e in mat['boxes'][0]:\n",
        "        coords.append(list())\n",
        "        c = 0\n",
        "        for d in e[0][0]:\n",
        "            if c > 3:\n",
        "                break\n",
        "            coords[i].append((d[0][0], d[0][1]))\n",
        "            c += 1\n",
        "        i += 1\n",
        "\n",
        "    boxes = []\n",
        "    for coord in coords:\n",
        "      x_max, x_min, y_max, y_min = 0, float('inf'), 0, float('inf')\n",
        "      for y,x in coord:\n",
        "        x_max, x_min = np.max([x, x_max]), np.min([x, x_min])\n",
        "        y_max, y_min = np.max([y, y_max]), np.min([y, y_min])\n",
        "\n",
        "      box = [x_min, y_min, x_max, y_max]\n",
        "      boxes.append(box)\n",
        "\n",
        "    return boxes\n"
      ],
      "execution_count": 0,
      "outputs": []
    },
    {
      "cell_type": "code",
      "metadata": {
        "id": "RN997C2uKvHa",
        "colab_type": "code",
        "colab": {}
      },
      "source": [
        "train_dataset = HandDatasetOxford(TRAIN_IMG_DIR, TRAIN_ANN_DIR)\n",
        "test_dataset = HandDatasetOxford(TEST_IMG_DIR, TEST_ANN_DIR)"
      ],
      "execution_count": 0,
      "outputs": []
    },
    {
      "cell_type": "code",
      "metadata": {
        "id": "xITS-tqGLmEp",
        "colab_type": "code",
        "colab": {}
      },
      "source": [
        "path_images_train = os.path.join('hand', 'images', 'train')\n",
        "path_images_test = os.path.join('hand', 'images', 'test')\n",
        "path_labels_train = os.path.join('hand', 'labels', 'train')\n",
        "path_labels_test = os.path.join('hand', 'labels', 'test')"
      ],
      "execution_count": 0,
      "outputs": []
    },
    {
      "cell_type": "code",
      "metadata": {
        "id": "NYp-RWffKvfR",
        "colab_type": "code",
        "colab": {}
      },
      "source": [
        "!mkdir -p {path_images_train}\n",
        "!mkdir -p {path_images_test}\n",
        "!mkdir -p {path_labels_train}\n",
        "!mkdir -p {path_labels_test}"
      ],
      "execution_count": 0,
      "outputs": []
    },
    {
      "cell_type": "code",
      "metadata": {
        "id": "YWQ8H515Liqp",
        "colab_type": "code",
        "colab": {}
      },
      "source": [
        "for idx in tqdm(range(150)):\n",
        "  sample = train_dataset[idx]\n",
        "\n",
        "  label = sample['label']\n",
        "  label_filename = sample['label_filename']\n",
        "  img_filename = sample['img_filename']\n",
        "\n",
        "  path_image_new = os.path.join(path_images_train, img_filename)\n",
        "  path_label_new = os.path.join(path_labels_train, label_filename)\n",
        "\n",
        "  # save label\n",
        "  with open(path_label_new, \"w\") as f :\n",
        "    f.write(label)\n",
        "\n",
        "  copyfile(sample['image_path'], path_image_new)\n",
        "  \n",
        "\n",
        "for idx in tqdm(range(50)):\n",
        "  sample = test_dataset[idx]\n",
        "\n",
        "  label = sample['label']\n",
        "  label_filename = sample['label_filename']\n",
        "  img_filename = sample['img_filename']\n",
        "\n",
        "  path_image_new = os.path.join(path_images_test, img_filename)\n",
        "  path_label_new = os.path.join(path_labels_test, label_filename)\n",
        "\n",
        "  # save label\n",
        "  with open(path_label_new, \"w\") as f :\n",
        "    f.write(label)\n",
        "\n",
        "  copyfile(sample['image_path'], path_image_new)"
      ],
      "execution_count": 0,
      "outputs": []
    },
    {
      "cell_type": "code",
      "metadata": {
        "id": "0OF5DHVeLv7S",
        "colab_type": "code",
        "colab": {}
      },
      "source": [
        "###\n",
        "str_hand_1cls_train = \"\"\n",
        "for filename in os.listdir(path_images_train):\n",
        "  row = str(os.path.join(\"..\", path_images_train, filename))\n",
        "  str_hand_1cls_train += row \n",
        "  str_hand_1cls_train += \"\\n\"\n",
        "\n",
        "str_hand_1cls_train = str_hand_1cls_train.strip()\n",
        "\n",
        "with open('hand_1cls_train.txt', \"w\") as f :\n",
        "  f.write(str_hand_1cls_train)\n",
        "\n",
        "### \n",
        "str_hand_1cls_test = \"\"\n",
        "for filename in os.listdir(path_images_test):\n",
        "  row = str(os.path.join(\"..\", path_images_test, filename))\n",
        "  str_hand_1cls_test += row \n",
        "  str_hand_1cls_test += \"\\n\"\n",
        "\n",
        "str_hand_1cls_test = str_hand_1cls_test.strip()\n",
        "\n",
        "with open('hand_1cls_test.txt', \"w\") as f :\n",
        "  f.write(str_hand_1cls_test)"
      ],
      "execution_count": 0,
      "outputs": []
    },
    {
      "cell_type": "code",
      "metadata": {
        "id": "GI6FZ4gVL82a",
        "colab_type": "code",
        "colab": {}
      },
      "source": [
        "with open('hand.names', \"w\") as f :\n",
        "  f.write(\"hand\")"
      ],
      "execution_count": 0,
      "outputs": []
    },
    {
      "cell_type": "code",
      "metadata": {
        "id": "fLVEOezHL-aR",
        "colab_type": "code",
        "colab": {}
      },
      "source": [
        "with open('hand_1cls.data', \"w\") as f :\n",
        "  f.write(\"\"\"classes=1\n",
        "train=./data/hand_1cls_train.txt\n",
        "valid=./data/hand_1cls_test.txt\n",
        "names=data/hand.names\n",
        "backup=backup/\n",
        "eval=coco\"\"\")"
      ],
      "execution_count": 0,
      "outputs": []
    },
    {
      "cell_type": "markdown",
      "metadata": {
        "id": "FcvBnXVCMA4M",
        "colab_type": "text"
      },
      "source": [
        "# Clone Yolo"
      ]
    },
    {
      "cell_type": "code",
      "metadata": {
        "id": "xt_NDQsnPfTw",
        "colab_type": "code",
        "colab": {}
      },
      "source": [
        "!git clone https://github.com/ultralytics/yolov3  # clone\n",
        "%cd yolov3"
      ],
      "execution_count": 0,
      "outputs": []
    },
    {
      "cell_type": "markdown",
      "metadata": {
        "id": "idjIJ4jJk2Uc",
        "colab_type": "text"
      },
      "source": [
        "## Update Config (optional)"
      ]
    },
    {
      "cell_type": "markdown",
      "metadata": {
        "id": "D4V5jyZaPf0n",
        "colab_type": "text"
      },
      "source": [
        "for 1 classes, `.cfg` file already made by ultralytics\n",
        "\n",
        "Just Use `cfg.yolo3-spp-1cls.cfg`"
      ]
    },
    {
      "cell_type": "markdown",
      "metadata": {
        "id": "Hsiqwse8RjFb",
        "colab_type": "text"
      },
      "source": [
        "For other number of class: \n",
        "\n",
        "`n` is your class count\n",
        "**Update *.cfg file**  \n",
        "\n",
        "* `filters=255 -> filters=[4 + 1 + n] * 3`\n",
        "* `classes=80 -> classes=n`"
      ]
    },
    {
      "cell_type": "markdown",
      "metadata": {
        "id": "HZLJv_zEQY0Y",
        "colab_type": "text"
      },
      "source": [
        "![Yolo Config](https://user-images.githubusercontent.com/26833433/66830924-e03f9500-ef56-11e9-9d09-97f9921cab39.png)"
      ]
    },
    {
      "cell_type": "markdown",
      "metadata": {
        "id": "8cH67sw8Wdkd",
        "colab_type": "text"
      },
      "source": [
        "# Move data files "
      ]
    },
    {
      "cell_type": "markdown",
      "metadata": {
        "id": "NaAcguz-l2hG",
        "colab_type": "text"
      },
      "source": [
        "![teks alternatif](https://user-images.githubusercontent.com/26833433/55683084-f9c6ab00-593b-11e9-877d-9003afa44aa1.png)"
      ]
    },
    {
      "cell_type": "code",
      "metadata": {
        "id": "Dqn8dddZleO_",
        "colab_type": "code",
        "colab": {}
      },
      "source": [
        "!pwd"
      ],
      "execution_count": 0,
      "outputs": []
    },
    {
      "cell_type": "code",
      "metadata": {
        "id": "7pMw5ngNlfII",
        "colab_type": "code",
        "colab": {}
      },
      "source": [
        "!cp ../hand.names ./data/\n",
        "!cp ../hand_1cls.data ./data/\n",
        "!cp ../hand_1cls_test.txt ./data/\n",
        "!cp ../hand_1cls_train.txt ./data/"
      ],
      "execution_count": 0,
      "outputs": []
    },
    {
      "cell_type": "markdown",
      "metadata": {
        "id": "yDA95_xkmDvK",
        "colab_type": "text"
      },
      "source": [
        "# Train"
      ]
    },
    {
      "cell_type": "code",
      "metadata": {
        "id": "Md0AIhdTmqm5",
        "colab_type": "code",
        "colab": {}
      },
      "source": [
        "!python train.py --epochs 10 --data data/hand_1cls.data --cfg cfg/yolov3-spp-1cls.cfg --single-cls"
      ],
      "execution_count": 0,
      "outputs": []
    },
    {
      "cell_type": "code",
      "metadata": {
        "id": "mCC3eVTxvtWb",
        "colab_type": "code",
        "colab": {}
      },
      "source": [
        "!python train.py --epochs 50 --data data/hand_1cls.data --cfg cfg/yolov3-spp-1cls.cfg --single-cls"
      ],
      "execution_count": 0,
      "outputs": []
    },
    {
      "cell_type": "markdown",
      "metadata": {
        "id": "RUGYE5kiln8F",
        "colab_type": "text"
      },
      "source": [
        "# Save Model"
      ]
    },
    {
      "cell_type": "code",
      "metadata": {
        "id": "4tGnECsGjS0t",
        "colab_type": "code",
        "colab": {}
      },
      "source": [
        "# Download but most likely fail because large size\n",
        "\n",
        "# from google.colab import files\n",
        "# files.download('./weights/best.pt') \n"
      ],
      "execution_count": 0,
      "outputs": []
    },
    {
      "cell_type": "code",
      "metadata": {
        "id": "8aEZsOGMkKmN",
        "colab_type": "code",
        "colab": {}
      },
      "source": [
        "# Connect to gdrive\n",
        "\n",
        "from google.colab import drive\n",
        "drive.mount('/content/drive')"
      ],
      "execution_count": 0,
      "outputs": []
    },
    {
      "cell_type": "code",
      "metadata": {
        "id": "G_nF-jfUmh5u",
        "colab_type": "code",
        "colab": {}
      },
      "source": [
        "# copy best model\n",
        "# !cp /content/yolov3/weights/best.pt \"/content/drive/My Drive/Models weights/hand detection yolov3 own train/\""
      ],
      "execution_count": 0,
      "outputs": []
    },
    {
      "cell_type": "code",
      "metadata": {
        "id": "V_aBGKyKmnP4",
        "colab_type": "code",
        "colab": {}
      },
      "source": [
        "# rename model name  \n",
        "# mv \"/content/drive/My Drive/Models weights/hand detection yolov3 own train/best.pt\" \"/content/drive/My Drive/Models weights/hand detection yolov3 own train/yolov3_epochs_100.pt\""
      ],
      "execution_count": 0,
      "outputs": []
    },
    {
      "cell_type": "markdown",
      "metadata": {
        "id": "c2iecSe5odKO",
        "colab_type": "text"
      },
      "source": [
        "# Detect New Picture\n",
        "\n",
        "\n"
      ]
    },
    {
      "cell_type": "markdown",
      "metadata": {
        "id": "tTjmLxjioo8E",
        "colab_type": "text"
      },
      "source": [
        "## Copy Photos"
      ]
    },
    {
      "cell_type": "markdown",
      "metadata": {
        "id": "7bfwr1tupiQN",
        "colab_type": "text"
      },
      "source": [
        "Copy test photos to `/content/yolov3/data/samples`"
      ]
    },
    {
      "cell_type": "code",
      "metadata": {
        "id": "bNuYN8d8pr_Q",
        "colab_type": "code",
        "colab": {}
      },
      "source": [
        "!cp /content/hand/images/test/*.jpg /content/yolov3/data/samples/"
      ],
      "execution_count": 0,
      "outputs": []
    },
    {
      "cell_type": "markdown",
      "metadata": {
        "id": "_kKTTFDYqNSI",
        "colab_type": "text"
      },
      "source": [
        "## Run detect.py"
      ]
    },
    {
      "cell_type": "code",
      "metadata": {
        "id": "usNhr0G8qSbX",
        "colab_type": "code",
        "colab": {}
      },
      "source": [
        "!python detect.py --weights weights/best.pt --cfg cfg/yolov3-spp-1cls.cfg --names data/hand.names"
      ],
      "execution_count": 0,
      "outputs": []
    },
    {
      "cell_type": "markdown",
      "metadata": {
        "id": "q2ZFjeDDqWRB",
        "colab_type": "text"
      },
      "source": [
        "## Show Result"
      ]
    },
    {
      "cell_type": "code",
      "metadata": {
        "id": "Z3IOFEPQsjnp",
        "colab_type": "code",
        "colab": {}
      },
      "source": [
        "Image.open(os.path.join('output', 'zidane.jpg')).resize((400,300))"
      ],
      "execution_count": 0,
      "outputs": []
    },
    {
      "cell_type": "code",
      "metadata": {
        "id": "R7jWDmcRsRE-",
        "colab_type": "code",
        "colab": {}
      },
      "source": [
        "np.random.seed(100)\n",
        "np.random.choice(os.listdir(\"output\"), 10, replace = False)"
      ],
      "execution_count": 0,
      "outputs": []
    },
    {
      "cell_type": "code",
      "metadata": {
        "id": "-is2eDGqrYUY",
        "colab_type": "code",
        "colab": {}
      },
      "source": [
        "# plot the images in the batch, along with the corresponding labels\n",
        "fig = plt.figure(figsize=(20, 10))\n",
        "\n",
        "np.random.seed(234)\n",
        "list_filename = np.random.choice(os.listdir(\"output\"), 10, replace = False)\n",
        "\n",
        "for img_loc, filename in enumerate(list_filename):\n",
        "    img = Image.open(os.path.join('output', filename))\n",
        "    \n",
        "    ax = fig.add_subplot(2, 5, img_loc+1, xticks=[], yticks=[])\n",
        "    plt.imshow(img , cmap = 'gray')\n",
        "    plt.title(f\"{filename}\")"
      ],
      "execution_count": 0,
      "outputs": []
    },
    {
      "cell_type": "markdown",
      "metadata": {
        "id": "R2gJO998t9qd",
        "colab_type": "text"
      },
      "source": [
        "# Convert Model from pytorch to Darknet"
      ]
    },
    {
      "cell_type": "markdown",
      "metadata": {
        "id": "K8LJK-Lzxqnq",
        "colab_type": "text"
      },
      "source": [
        "Advantages: model size reduced ~2x "
      ]
    },
    {
      "cell_type": "code",
      "metadata": {
        "id": "yLq6CJV6wJLd",
        "colab_type": "code",
        "colab": {}
      },
      "source": [
        "!python -c \"from models import *; convert('cfg/yolov3-spp-1cls.cfg', 'weights/best.pt')\""
      ],
      "execution_count": 0,
      "outputs": []
    },
    {
      "cell_type": "code",
      "metadata": {
        "id": "aD-zT6A9wWjo",
        "colab_type": "code",
        "colab": {}
      },
      "source": [
        "# copy best model\n",
        "!cp /content/yolov3/converted.weights \"/content/drive/My Drive/Models weights/hand detection yolov3 own train/\""
      ],
      "execution_count": 0,
      "outputs": []
    },
    {
      "cell_type": "code",
      "metadata": {
        "id": "OU_2pnFexbqE",
        "colab_type": "code",
        "colab": {}
      },
      "source": [
        "# rename model name  \n",
        "mv \"/content/drive/My Drive/Models weights/hand detection yolov3 own train/converted.weights\" \"/content/drive/My Drive/Models weights/hand detection yolov3 own train/yolov3_epochs_100.weights\""
      ],
      "execution_count": 0,
      "outputs": []
    },
    {
      "cell_type": "markdown",
      "metadata": {
        "id": "2u0BrZXdxjkI",
        "colab_type": "text"
      },
      "source": [
        "# Redetect using Darknet Model"
      ]
    },
    {
      "cell_type": "code",
      "metadata": {
        "id": "0S-Tj689ymJ5",
        "colab_type": "code",
        "colab": {}
      },
      "source": [
        "!rm -r output"
      ],
      "execution_count": 0,
      "outputs": []
    },
    {
      "cell_type": "code",
      "metadata": {
        "id": "C90omM6byoGf",
        "colab_type": "code",
        "colab": {}
      },
      "source": [
        "!python detect.py --weights converted.weights --cfg cfg/yolov3-spp-1cls.cfg --names data/hand.names"
      ],
      "execution_count": 0,
      "outputs": []
    },
    {
      "cell_type": "code",
      "metadata": {
        "id": "TwOi4JQrywjK",
        "colab_type": "code",
        "colab": {}
      },
      "source": [
        "# plot the images in the batch, along with the corresponding labels\n",
        "fig = plt.figure(figsize=(20, 10))\n",
        "\n",
        "np.random.seed(234)\n",
        "list_filename = np.random.choice(os.listdir(\"output\"), 10, replace = False)\n",
        "\n",
        "for img_loc, filename in enumerate(list_filename):\n",
        "    img = Image.open(os.path.join('output', filename))\n",
        "    \n",
        "    ax = fig.add_subplot(2, 5, img_loc+1, xticks=[], yticks=[])\n",
        "    plt.imshow(img , cmap = 'gray')\n",
        "    plt.title(f\"{filename}\")"
      ],
      "execution_count": 0,
      "outputs": []
    },
    {
      "cell_type": "markdown",
      "metadata": {
        "id": "d7WY_tXsy60A",
        "colab_type": "text"
      },
      "source": [
        "The result is same, so far for this 10 sample :D"
      ]
    },
    {
      "cell_type": "markdown",
      "metadata": {
        "id": "DZErWbj_8dSZ",
        "colab_type": "text"
      },
      "source": [
        "# Thank You"
      ]
    }
  ]
}